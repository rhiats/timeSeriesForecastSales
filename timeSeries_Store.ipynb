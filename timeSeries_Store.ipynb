{
  "nbformat": 4,
  "nbformat_minor": 0,
  "metadata": {
    "colab": {
      "provenance": [],
      "mount_file_id": "13jt2EQ18p2kLjjQcf7Xv3kgUtzFS-_8l",
      "authorship_tag": "ABX9TyOO3Q/k9+W5ORhrPF/YhkxD",
      "include_colab_link": true
    },
    "kernelspec": {
      "name": "python3",
      "display_name": "Python 3"
    },
    "language_info": {
      "name": "python"
    }
  },
  "cells": [
    {
      "cell_type": "markdown",
      "metadata": {
        "id": "view-in-github",
        "colab_type": "text"
      },
      "source": [
        "<a href=\"https://colab.research.google.com/github/rhiats/timeSeriesForecastSales/blob/main/timeSeries_Store.ipynb\" target=\"_parent\"><img src=\"https://colab.research.google.com/assets/colab-badge.svg\" alt=\"Open In Colab\"/></a>"
      ]
    },
    {
      "cell_type": "markdown",
      "source": [
        "**Time-Series Forecasting of Store Sales**\n",
        "\n",
        "The dataset contains consecutive transactions from January 1, 2013 to August 15, 2017. The transactions are from the Favorita stores located in Ecuador.\n",
        "\n",
        "References:\n",
        "\n",
        "https://www.kaggle.com/competitions/store-sales-time-series-forecasting/data?select=train.csv\n",
        "\n",
        "https://www.kaggle.com/learn/time-series\n",
        "\n",
        "https://www.geeksforgeeks.org/how-to-calculate-moving-average-in-a-pandas-dataframe/\n",
        "\n",
        "https://bfi.uchicago.edu/wp-content/uploads/The-Case-of-Ecuador.pdf"
      ],
      "metadata": {
        "id": "qEr2hws1zwV5"
      }
    },
    {
      "cell_type": "code",
      "source": [
        "import pandas as pd\n",
        "import numpy as np\n",
        "from sklearn.linear_model import LinearRegression\n",
        "import warnings\n",
        "warnings.filterwarnings(\"ignore\")\n",
        "import seaborn as sns\n",
        "import matplotlib.pyplot as plt"
      ],
      "metadata": {
        "id": "m2MdNqMD0hjr"
      },
      "execution_count": 1,
      "outputs": []
    },
    {
      "cell_type": "code",
      "source": [
        "df = pd.read_csv(\"/content/drive/MyDrive/Colab Notebooks/timeSeriesStore/input/train.csv\", parse_dates=[\"date\"])\n",
        "df = df.set_index(\"date\")\n",
        "\n",
        "def nan_num(df):\n",
        "  \"\"\"\n",
        "    Return the number of nans per column in the data set.\n",
        "\n",
        "  \"\"\"\n",
        "  nan_count=df.isnull().sum()\n",
        "  return nan_count\n",
        "nan_num(df)"
      ],
      "metadata": {
        "colab": {
          "base_uri": "https://localhost:8080/"
        },
        "id": "vBqcRhKFz238",
        "outputId": "c6f12b69-2ddf-4bbe-bb4c-478dc38db4b4"
      },
      "execution_count": 2,
      "outputs": [
        {
          "output_type": "execute_result",
          "data": {
            "text/plain": [
              "id             0\n",
              "store_nbr      0\n",
              "family         0\n",
              "sales          0\n",
              "onpromotion    0\n",
              "dtype: int64"
            ]
          },
          "metadata": {},
          "execution_count": 2
        }
      ]
    },
    {
      "cell_type": "code",
      "source": [
        "def missingDates(first,last,df):\n",
        "  \"\"\"\n",
        "    Check for missing dates in the dataframe\n",
        "  \"\"\"\n",
        "  return pd.date_range(start = first, end = last ).difference(df.index)\n",
        "\n",
        "missingDates(\"2013-01-01\",\"2017-08-15\",df)"
      ],
      "metadata": {
        "colab": {
          "base_uri": "https://localhost:8080/"
        },
        "id": "EUN73i_A0f0r",
        "outputId": "301be277-a50f-43c7-a405-967ccf9eead3"
      },
      "execution_count": 3,
      "outputs": [
        {
          "output_type": "execute_result",
          "data": {
            "text/plain": [
              "DatetimeIndex(['2013-12-25', '2014-12-25', '2015-12-25', '2016-12-25'], dtype='datetime64[ns]', freq=None)"
            ]
          },
          "metadata": {},
          "execution_count": 3
        }
      ]
    },
    {
      "cell_type": "code",
      "source": [
        "df.index=df.index.to_period(\"Q\") #Convert to Business quarters period for visualization\n",
        "print(df)\n",
        "df.reset_index(inplace=True)\n",
        "df['Time'] = np.arange(len(df.index)) #Time Dummy\n",
        "df.head()"
      ],
      "metadata": {
        "colab": {
          "base_uri": "https://localhost:8080/",
          "height": 466
        },
        "id": "wT0ZKWwB6uea",
        "outputId": "d91f814e-8e52-4806-d459-55f63868ffe0"
      },
      "execution_count": 4,
      "outputs": [
        {
          "output_type": "stream",
          "name": "stdout",
          "text": [
            "             id  store_nbr                      family     sales  onpromotion\n",
            "date                                                                         \n",
            "2013Q1        0          1                  AUTOMOTIVE     0.000            0\n",
            "2013Q1        1          1                   BABY CARE     0.000            0\n",
            "2013Q1        2          1                      BEAUTY     0.000            0\n",
            "2013Q1        3          1                   BEVERAGES     0.000            0\n",
            "2013Q1        4          1                       BOOKS     0.000            0\n",
            "...         ...        ...                         ...       ...          ...\n",
            "2017Q3  3000883          9                     POULTRY   438.133            0\n",
            "2017Q3  3000884          9              PREPARED FOODS   154.553            1\n",
            "2017Q3  3000885          9                     PRODUCE  2419.729          148\n",
            "2017Q3  3000886          9  SCHOOL AND OFFICE SUPPLIES   121.000            8\n",
            "2017Q3  3000887          9                     SEAFOOD    16.000            0\n",
            "\n",
            "[3000888 rows x 5 columns]\n"
          ]
        },
        {
          "output_type": "execute_result",
          "data": {
            "text/plain": [
              "     date  id  store_nbr      family  sales  onpromotion  Time\n",
              "0  2013Q1   0          1  AUTOMOTIVE    0.0            0     0\n",
              "1  2013Q1   1          1   BABY CARE    0.0            0     1\n",
              "2  2013Q1   2          1      BEAUTY    0.0            0     2\n",
              "3  2013Q1   3          1   BEVERAGES    0.0            0     3\n",
              "4  2013Q1   4          1       BOOKS    0.0            0     4"
            ],
            "text/html": [
              "\n",
              "  <div id=\"df-c3168625-eb80-4dab-83b7-9c7ee461d12e\" class=\"colab-df-container\">\n",
              "    <div>\n",
              "<style scoped>\n",
              "    .dataframe tbody tr th:only-of-type {\n",
              "        vertical-align: middle;\n",
              "    }\n",
              "\n",
              "    .dataframe tbody tr th {\n",
              "        vertical-align: top;\n",
              "    }\n",
              "\n",
              "    .dataframe thead th {\n",
              "        text-align: right;\n",
              "    }\n",
              "</style>\n",
              "<table border=\"1\" class=\"dataframe\">\n",
              "  <thead>\n",
              "    <tr style=\"text-align: right;\">\n",
              "      <th></th>\n",
              "      <th>date</th>\n",
              "      <th>id</th>\n",
              "      <th>store_nbr</th>\n",
              "      <th>family</th>\n",
              "      <th>sales</th>\n",
              "      <th>onpromotion</th>\n",
              "      <th>Time</th>\n",
              "    </tr>\n",
              "  </thead>\n",
              "  <tbody>\n",
              "    <tr>\n",
              "      <th>0</th>\n",
              "      <td>2013Q1</td>\n",
              "      <td>0</td>\n",
              "      <td>1</td>\n",
              "      <td>AUTOMOTIVE</td>\n",
              "      <td>0.0</td>\n",
              "      <td>0</td>\n",
              "      <td>0</td>\n",
              "    </tr>\n",
              "    <tr>\n",
              "      <th>1</th>\n",
              "      <td>2013Q1</td>\n",
              "      <td>1</td>\n",
              "      <td>1</td>\n",
              "      <td>BABY CARE</td>\n",
              "      <td>0.0</td>\n",
              "      <td>0</td>\n",
              "      <td>1</td>\n",
              "    </tr>\n",
              "    <tr>\n",
              "      <th>2</th>\n",
              "      <td>2013Q1</td>\n",
              "      <td>2</td>\n",
              "      <td>1</td>\n",
              "      <td>BEAUTY</td>\n",
              "      <td>0.0</td>\n",
              "      <td>0</td>\n",
              "      <td>2</td>\n",
              "    </tr>\n",
              "    <tr>\n",
              "      <th>3</th>\n",
              "      <td>2013Q1</td>\n",
              "      <td>3</td>\n",
              "      <td>1</td>\n",
              "      <td>BEVERAGES</td>\n",
              "      <td>0.0</td>\n",
              "      <td>0</td>\n",
              "      <td>3</td>\n",
              "    </tr>\n",
              "    <tr>\n",
              "      <th>4</th>\n",
              "      <td>2013Q1</td>\n",
              "      <td>4</td>\n",
              "      <td>1</td>\n",
              "      <td>BOOKS</td>\n",
              "      <td>0.0</td>\n",
              "      <td>0</td>\n",
              "      <td>4</td>\n",
              "    </tr>\n",
              "  </tbody>\n",
              "</table>\n",
              "</div>\n",
              "    <div class=\"colab-df-buttons\">\n",
              "\n",
              "  <div class=\"colab-df-container\">\n",
              "    <button class=\"colab-df-convert\" onclick=\"convertToInteractive('df-c3168625-eb80-4dab-83b7-9c7ee461d12e')\"\n",
              "            title=\"Convert this dataframe to an interactive table.\"\n",
              "            style=\"display:none;\">\n",
              "\n",
              "  <svg xmlns=\"http://www.w3.org/2000/svg\" height=\"24px\" viewBox=\"0 -960 960 960\">\n",
              "    <path d=\"M120-120v-720h720v720H120Zm60-500h600v-160H180v160Zm220 220h160v-160H400v160Zm0 220h160v-160H400v160ZM180-400h160v-160H180v160Zm440 0h160v-160H620v160ZM180-180h160v-160H180v160Zm440 0h160v-160H620v160Z\"/>\n",
              "  </svg>\n",
              "    </button>\n",
              "\n",
              "  <style>\n",
              "    .colab-df-container {\n",
              "      display:flex;\n",
              "      gap: 12px;\n",
              "    }\n",
              "\n",
              "    .colab-df-convert {\n",
              "      background-color: #E8F0FE;\n",
              "      border: none;\n",
              "      border-radius: 50%;\n",
              "      cursor: pointer;\n",
              "      display: none;\n",
              "      fill: #1967D2;\n",
              "      height: 32px;\n",
              "      padding: 0 0 0 0;\n",
              "      width: 32px;\n",
              "    }\n",
              "\n",
              "    .colab-df-convert:hover {\n",
              "      background-color: #E2EBFA;\n",
              "      box-shadow: 0px 1px 2px rgba(60, 64, 67, 0.3), 0px 1px 3px 1px rgba(60, 64, 67, 0.15);\n",
              "      fill: #174EA6;\n",
              "    }\n",
              "\n",
              "    .colab-df-buttons div {\n",
              "      margin-bottom: 4px;\n",
              "    }\n",
              "\n",
              "    [theme=dark] .colab-df-convert {\n",
              "      background-color: #3B4455;\n",
              "      fill: #D2E3FC;\n",
              "    }\n",
              "\n",
              "    [theme=dark] .colab-df-convert:hover {\n",
              "      background-color: #434B5C;\n",
              "      box-shadow: 0px 1px 3px 1px rgba(0, 0, 0, 0.15);\n",
              "      filter: drop-shadow(0px 1px 2px rgba(0, 0, 0, 0.3));\n",
              "      fill: #FFFFFF;\n",
              "    }\n",
              "  </style>\n",
              "\n",
              "    <script>\n",
              "      const buttonEl =\n",
              "        document.querySelector('#df-c3168625-eb80-4dab-83b7-9c7ee461d12e button.colab-df-convert');\n",
              "      buttonEl.style.display =\n",
              "        google.colab.kernel.accessAllowed ? 'block' : 'none';\n",
              "\n",
              "      async function convertToInteractive(key) {\n",
              "        const element = document.querySelector('#df-c3168625-eb80-4dab-83b7-9c7ee461d12e');\n",
              "        const dataTable =\n",
              "          await google.colab.kernel.invokeFunction('convertToInteractive',\n",
              "                                                    [key], {});\n",
              "        if (!dataTable) return;\n",
              "\n",
              "        const docLinkHtml = 'Like what you see? Visit the ' +\n",
              "          '<a target=\"_blank\" href=https://colab.research.google.com/notebooks/data_table.ipynb>data table notebook</a>'\n",
              "          + ' to learn more about interactive tables.';\n",
              "        element.innerHTML = '';\n",
              "        dataTable['output_type'] = 'display_data';\n",
              "        await google.colab.output.renderOutput(dataTable, element);\n",
              "        const docLink = document.createElement('div');\n",
              "        docLink.innerHTML = docLinkHtml;\n",
              "        element.appendChild(docLink);\n",
              "      }\n",
              "    </script>\n",
              "  </div>\n",
              "\n",
              "\n",
              "<div id=\"df-00a88a70-b3c7-40d3-bfe9-d7faf4f191f0\">\n",
              "  <button class=\"colab-df-quickchart\" onclick=\"quickchart('df-00a88a70-b3c7-40d3-bfe9-d7faf4f191f0')\"\n",
              "            title=\"Suggest charts.\"\n",
              "            style=\"display:none;\">\n",
              "\n",
              "<svg xmlns=\"http://www.w3.org/2000/svg\" height=\"24px\"viewBox=\"0 0 24 24\"\n",
              "     width=\"24px\">\n",
              "    <g>\n",
              "        <path d=\"M19 3H5c-1.1 0-2 .9-2 2v14c0 1.1.9 2 2 2h14c1.1 0 2-.9 2-2V5c0-1.1-.9-2-2-2zM9 17H7v-7h2v7zm4 0h-2V7h2v10zm4 0h-2v-4h2v4z\"/>\n",
              "    </g>\n",
              "</svg>\n",
              "  </button>\n",
              "\n",
              "<style>\n",
              "  .colab-df-quickchart {\n",
              "    background-color: #E8F0FE;\n",
              "    border: none;\n",
              "    border-radius: 50%;\n",
              "    cursor: pointer;\n",
              "    display: none;\n",
              "    fill: #1967D2;\n",
              "    height: 32px;\n",
              "    padding: 0 0 0 0;\n",
              "    width: 32px;\n",
              "  }\n",
              "\n",
              "  .colab-df-quickchart:hover {\n",
              "    background-color: #E2EBFA;\n",
              "    box-shadow: 0px 1px 2px rgba(60, 64, 67, 0.3), 0px 1px 3px 1px rgba(60, 64, 67, 0.15);\n",
              "    fill: #174EA6;\n",
              "  }\n",
              "\n",
              "  [theme=dark] .colab-df-quickchart {\n",
              "    background-color: #3B4455;\n",
              "    fill: #D2E3FC;\n",
              "  }\n",
              "\n",
              "  [theme=dark] .colab-df-quickchart:hover {\n",
              "    background-color: #434B5C;\n",
              "    box-shadow: 0px 1px 3px 1px rgba(0, 0, 0, 0.15);\n",
              "    filter: drop-shadow(0px 1px 2px rgba(0, 0, 0, 0.3));\n",
              "    fill: #FFFFFF;\n",
              "  }\n",
              "</style>\n",
              "\n",
              "  <script>\n",
              "    async function quickchart(key) {\n",
              "      const charts = await google.colab.kernel.invokeFunction(\n",
              "          'suggestCharts', [key], {});\n",
              "    }\n",
              "    (() => {\n",
              "      let quickchartButtonEl =\n",
              "        document.querySelector('#df-00a88a70-b3c7-40d3-bfe9-d7faf4f191f0 button');\n",
              "      quickchartButtonEl.style.display =\n",
              "        google.colab.kernel.accessAllowed ? 'block' : 'none';\n",
              "    })();\n",
              "  </script>\n",
              "</div>\n",
              "    </div>\n",
              "  </div>\n"
            ]
          },
          "metadata": {},
          "execution_count": 4
        }
      ]
    },
    {
      "cell_type": "markdown",
      "source": [
        "**Linear Regression - Influence of Time on Daily Sales**\n",
        "\n",
        "The Linear Regression model explains 1% of the variance in sales. It is not a good linear predictor of the change in sales prices through the years."
      ],
      "metadata": {
        "id": "AC2zrrfgDqig"
      }
    },
    {
      "cell_type": "code",
      "source": [
        "X=df['Time'].to_numpy()\n",
        "y=df['sales'].to_numpy()\n",
        "X=X.reshape(-1,1)\n",
        "y=y.reshape(-1, 1)\n",
        "reg = LinearRegression().fit(X, y)\n",
        "reg.score(X, y)"
      ],
      "metadata": {
        "colab": {
          "base_uri": "https://localhost:8080/"
        },
        "id": "L9IUQ0088ZZt",
        "outputId": "9210fd94-dd6a-4f93-b755-50509c8fc8eb"
      },
      "execution_count": 5,
      "outputs": [
        {
          "output_type": "execute_result",
          "data": {
            "text/plain": [
              "0.0073588375722049015"
            ]
          },
          "metadata": {},
          "execution_count": 5
        }
      ]
    },
    {
      "cell_type": "markdown",
      "source": [
        "**Linear Regression Influence of Previous Day's Sales on Next Day's Sales**\n",
        "\n",
        "Linear Regression explains 0.006% of the variation in the sales data. The sales of consecutive days are not dependent on each other - high sales on Monday do not mean high sales on Tuesday."
      ],
      "metadata": {
        "id": "Cp4z0cTRD1ay"
      }
    },
    {
      "cell_type": "code",
      "source": [
        "df['Sales_Lag_1'] = df['sales'].shift(1)\n",
        "df.dropna(inplace=True)\n",
        "\n",
        "X=df['sales'].to_numpy()\n",
        "y=df['Sales_Lag_1'].to_numpy()\n",
        "X=X.reshape(-1,1)\n",
        "y=y.reshape(-1, 1)\n",
        "reg = LinearRegression().fit(X, y)\n",
        "reg.score(X, y)"
      ],
      "metadata": {
        "colab": {
          "base_uri": "https://localhost:8080/"
        },
        "id": "VxMGbQmJD8rp",
        "outputId": "42cc9857-0e6a-4b1b-addb-bf504477012e"
      },
      "execution_count": 6,
      "outputs": [
        {
          "output_type": "execute_result",
          "data": {
            "text/plain": [
              "0.0005841652567425415"
            ]
          },
          "metadata": {},
          "execution_count": 6
        }
      ]
    },
    {
      "cell_type": "markdown",
      "source": [
        "**Simple Moving Average per Quarter**\n",
        "\n",
        "The Moving Average is the average sales within a sliding window of 90 days, a quarter, to visuaize the long term changes in sales and minimize the short term fluctuations caused by circumstances like holidays. This reveals a linear trend between time and sales, so a linear regression line is used to model the trend.\n",
        "\n",
        "There are steep declines in the average sales during Q1 and Q4 of 2014. During this period the country was in a low inflation period with slow changes in the price of goods. The decline may be attributed to spead of an illness, such as Ebola.  "
      ],
      "metadata": {
        "id": "s0RNChaOuiVt"
      }
    },
    {
      "cell_type": "code",
      "source": [
        "df['SMA90'] = df['sales'].rolling(90).mean()\n",
        "df.dropna(inplace=True)\n",
        "plot_df=df[['date','SMA90']]\n",
        "plot_df['date']=plot_df['date'].astype(str)\n",
        "sns.lineplot(data=plot_df, x=\"date\", y=\"SMA90\")\n",
        "plt.xticks(rotation = 25)\n",
        "plt.savefig('/content/drive/MyDrive/Colab Notebooks/timeSeriesStore/output/timeseries_sales.png')"
      ],
      "metadata": {
        "colab": {
          "base_uri": "https://localhost:8080/",
          "height": 471
        },
        "id": "LGSasalJ_Iy0",
        "outputId": "d2a48b2e-adcb-46c8-82d6-3e0662c0752e"
      },
      "execution_count": 7,
      "outputs": [
        {
          "output_type": "display_data",
          "data": {
            "text/plain": [
              "<Figure size 640x480 with 1 Axes>"
            ],
            "image/png": "[encoded data removed]"
          },
          "metadata": {}
        }
      ]
    },
    {
      "cell_type": "markdown",
      "source": [
        "**Linear Regression - Influence of Time on Quarterly Sales**\n",
        "\n",
        "Time explains 15% of the moving average sales per quarter.  "
      ],
      "metadata": {
        "id": "Ci9OEKnGLljE"
      }
    },
    {
      "cell_type": "code",
      "source": [
        "X=df['Time'].to_numpy()\n",
        "y=df['SMA90'].to_numpy()\n",
        "X=X.reshape(-1,1)\n",
        "y=y.reshape(-1, 1)\n",
        "reg = LinearRegression().fit(X, y)\n",
        "reg.score(X, y)"
      ],
      "metadata": {
        "colab": {
          "base_uri": "https://localhost:8080/"
        },
        "id": "2qetjgk2sLEB",
        "outputId": "fbafed2f-d04d-4f9c-b04c-cd5dd48fd2c6"
      },
      "execution_count": 8,
      "outputs": [
        {
          "output_type": "execute_result",
          "data": {
            "text/plain": [
              "0.1472880410975591"
            ]
          },
          "metadata": {},
          "execution_count": 8
        }
      ]
    },
    {
      "cell_type": "markdown",
      "source": [
        "**Seasonality**"
      ],
      "metadata": {
        "id": "CZB_C8W0_HtN"
      }
    },
    {
      "cell_type": "code",
      "source": [],
      "metadata": {
        "id": "krMKz-4RBPXm"
      },
      "execution_count": 8,
      "outputs": []
    }
  ]
}