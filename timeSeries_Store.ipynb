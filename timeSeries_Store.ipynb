{
  "nbformat": 4,
  "nbformat_minor": 0,
  "metadata": {
    "colab": {
      "provenance": [],
      "mount_file_id": "13jt2EQ18p2kLjjQcf7Xv3kgUtzFS-_8l",
      "authorship_tag": "ABX9TyPzXO+mHUaQXe/fE6vt/YAK",
      "include_colab_link": true
    },
    "kernelspec": {
      "name": "python3",
      "display_name": "Python 3"
    },
    "language_info": {
      "name": "python"
    }
  },
  "cells": [
    {
      "cell_type": "markdown",
      "metadata": {
        "id": "view-in-github",
        "colab_type": "text"
      },
      "source": [
        "<a href=\"https://colab.research.google.com/github/rhiats/timeSeriesForecastSales/blob/main/timeSeries_Store.ipynb\" target=\"_parent\"><img src=\"https://colab.research.google.com/assets/colab-badge.svg\" alt=\"Open In Colab\"/></a>"
      ]
    },
    {
      "cell_type": "markdown",
      "source": [
        "**Time-Series Forecasting of Store Sales**\n",
        "\n",
        "The dataset contains consecutive transactions from January 1, 2013 to August 15, 2017. The transactions are from the Favorita stores located in Ecuador.\n",
        "\n",
        "References:\n",
        "\n",
        "https://www.kaggle.com/competitions/store-sales-time-series-forecasting/data?select=train.csv\n",
        "\n",
        "https://www.kaggle.com/learn/time-series\n",
        "\n",
        "https://www.geeksforgeeks.org/how-to-calculate-moving-average-in-a-pandas-dataframe/"
      ],
      "metadata": {
        "id": "qEr2hws1zwV5"
      }
    },
    {
      "cell_type": "code",
      "source": [
        "import pandas as pd\n",
        "import numpy as np\n",
        "from sklearn.linear_model import LinearRegression\n",
        "import warnings\n",
        "warnings.filterwarnings(\"ignore\")\n",
        "import seaborn as sns\n",
        "import matplotlib.pyplot as plt"
      ],
      "metadata": {
        "id": "m2MdNqMD0hjr"
      },
      "execution_count": 1,
      "outputs": []
    },
    {
      "cell_type": "code",
      "source": [
        "df = pd.read_csv(\"/content/drive/MyDrive/Colab Notebooks/timeSeriesStore/input/train.csv\", parse_dates=[\"date\"])\n",
        "df = df.set_index(\"date\")\n",
        "\n",
        "def nan_num(df):\n",
        "  \"\"\"\n",
        "    Return the number of nans per column in the data set.\n",
        "\n",
        "  \"\"\"\n",
        "  nan_count=df.isnull().sum()\n",
        "  return nan_count\n",
        "nan_num(df)"
      ],
      "metadata": {
        "colab": {
          "base_uri": "https://localhost:8080/"
        },
        "id": "vBqcRhKFz238",
        "outputId": "ae946402-1a7c-4346-8cad-b1d5118c99bd"
      },
      "execution_count": 2,
      "outputs": [
        {
          "output_type": "execute_result",
          "data": {
            "text/plain": [
              "id             0\n",
              "store_nbr      0\n",
              "family         0\n",
              "sales          0\n",
              "onpromotion    0\n",
              "dtype: int64"
            ]
          },
          "metadata": {},
          "execution_count": 2
        }
      ]
    },
    {
      "cell_type": "code",
      "source": [
        "def missingDates(first,last,df):\n",
        "  \"\"\"\n",
        "    Check for missing dates in the dataframe\n",
        "  \"\"\"\n",
        "  return pd.date_range(start = first, end = last ).difference(df.index)\n",
        "\n",
        "missingDates(\"2013-01-01\",\"2017-08-15\",df)"
      ],
      "metadata": {
        "colab": {
          "base_uri": "https://localhost:8080/"
        },
        "id": "EUN73i_A0f0r",
        "outputId": "01de2343-ca0e-4d48-8ba2-c6f4c49ad0fc"
      },
      "execution_count": 3,
      "outputs": [
        {
          "output_type": "execute_result",
          "data": {
            "text/plain": [
              "DatetimeIndex(['2013-12-25', '2014-12-25', '2015-12-25', '2016-12-25'], dtype='datetime64[ns]', freq=None)"
            ]
          },
          "metadata": {},
          "execution_count": 3
        }
      ]
    },
    {
      "cell_type": "code",
      "source": [
        "df.index=df.index.to_period(\"Q\") #Convert to Business quarters period for visualization\n",
        "print(df)\n",
        "df.reset_index(inplace=True)\n",
        "df['Time'] = np.arange(len(df.index)) #Time Dummy\n",
        "df.head()"
      ],
      "metadata": {
        "id": "wT0ZKWwB6uea"
      },
      "execution_count": null,
      "outputs": []
    },
    {
      "cell_type": "markdown",
      "source": [
        "**Linear Regression - Influence of Time on Sales**\n",
        "\n",
        "The Linear Regression model explains 1% of the variance in sales. It is not a good linear predictor of the change in sales prices through the years."
      ],
      "metadata": {
        "id": "AC2zrrfgDqig"
      }
    },
    {
      "cell_type": "code",
      "source": [
        "X=df['Time'].to_numpy()\n",
        "y=df['sales'].to_numpy()\n",
        "X=X.reshape(-1,1)\n",
        "y=y.reshape(-1, 1)\n",
        "reg = LinearRegression().fit(X, y)\n",
        "reg.score(X, y)"
      ],
      "metadata": {
        "id": "L9IUQ0088ZZt"
      },
      "execution_count": null,
      "outputs": []
    },
    {
      "cell_type": "markdown",
      "source": [
        "**Linear Regression Influence of Previous Day's Sales on Next Day's Sales**\n",
        "\n",
        "Linear Regression explains 0.006% of the variation in the sales data. The sales of consecutive days are not dependent on each other - high sales on Monday do not mean high sales on Tuesday."
      ],
      "metadata": {
        "id": "Cp4z0cTRD1ay"
      }
    },
    {
      "cell_type": "code",
      "source": [
        "df['Sales_Lag_1'] = df['sales'].shift(1)\n",
        "df.dropna(inplace=True)\n",
        "\n",
        "X=df['sales'].to_numpy()\n",
        "y=df['Sales_Lag_1'].to_numpy()\n",
        "X=X.reshape(-1,1)\n",
        "y=y.reshape(-1, 1)\n",
        "reg = LinearRegression().fit(X, y)\n",
        "reg.score(X, y)"
      ],
      "metadata": {
        "id": "VxMGbQmJD8rp"
      },
      "execution_count": null,
      "outputs": []
    },
    {
      "cell_type": "markdown",
      "source": [
        "**Simple Moving Average per Quarter**\n",
        "\n",
        "The Moving Average is the average sales within a sliding window to visuaize the long term changes in sales and minimize the short term fluctuations caused by circumstances like holidays."
      ],
      "metadata": {
        "id": "s0RNChaOuiVt"
      }
    },
    {
      "cell_type": "code",
      "source": [
        "df['SMA90'] = df['sales'].rolling(90).mean()\n",
        "df.dropna(inplace=True)\n",
        "plot_df=df[['date','SMA90']]\n",
        "plot_df['date']=plot_df['date'].astype(str)\n",
        "sns.lineplot(data=plot_df, x=\"date\", y=\"SMA90\")\n",
        "plt.xticks(rotation = 25)\n",
        "plt.savefig('/content/drive/MyDrive/Colab Notebooks/timeSeriesStore/output/timeseries_sales.png')"
      ],
      "metadata": {
        "id": "LGSasalJ_Iy0"
      },
      "execution_count": null,
      "outputs": []
    },
    {
      "cell_type": "code",
      "source": [],
      "metadata": {
        "id": "2qetjgk2sLEB"
      },
      "execution_count": null,
      "outputs": []
    },
    {
      "cell_type": "code",
      "source": [],
      "metadata": {
        "id": "krMKz-4RBPXm"
      },
      "execution_count": null,
      "outputs": []
    }
  ]
}